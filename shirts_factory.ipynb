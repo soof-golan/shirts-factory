{
 "cells": [
  {
   "cell_type": "code",
   "execution_count": 118,
   "id": "52625a6f",
   "metadata": {},
   "outputs": [],
   "source": [
    "# Output 3 Blue Shirts and shut down the machine\n",
    "\n",
    "class Color:\n",
    "    White = 0\n",
    "    Gray = 1\n",
    "    Purple = 2\n",
    "    Blue = 3\n",
    "    Green = 4\n",
    "    Yellow = 5\n",
    "    Orange = 6\n",
    "    Red = 7\n",
    "    Brown = 8\n",
    "    Black = 9\n",
    "\n",
    "    \n",
    "class Bins:\n",
    "    Material = 0\n",
    "    Instructions = 1\n",
    "    Recycling = 2\n",
    "    Operands = 3\n",
    "    Result = 9\n",
    "\n",
    "\n",
    "class InfiniteShirts:\n",
    "    def __init__(self):\n",
    "        self.l = []\n",
    "        \n",
    "    def pop(self):\n",
    "        return self.l.pop() if len(self.l) else 0\n",
    "    \n",
    "    def append(self, v):\n",
    "        self.l.append(v)\n",
    "    \n",
    "    def __repr__(self):\n",
    "        return repr(self.l) if self. l else f'[0...]'\n",
    "\n",
    "\n",
    "class Factory:\n",
    "    N = 10\n",
    "    def __init__(self, instructions: list[int]):\n",
    "        if isinstance(instructions, str):\n",
    "            instructions = [int(c) for c in instructions]\n",
    "        instructions = list(reversed(instructions))\n",
    "        self.bins = [[] for _ in range(self.N)]\n",
    "        self.bins[Bins.Material] = InfiniteShirts()\n",
    "        self.instructions = instructions\n",
    "        self._done = False\n",
    "    \n",
    "    def run(self):\n",
    "        while not self.done:\n",
    "            try:\n",
    "                op = self.instructions.pop()\n",
    "                param = self.instructions.pop()\n",
    "                print(op, param, self)\n",
    "                self.do(op, param)\n",
    "            except Exception as e:\n",
    "                raise\n",
    "            self.recycling.append(op)\n",
    "            self.recycling.append(param)\n",
    "        return self.result\n",
    "            \n",
    "    def __str__(self):\n",
    "        return f\"Factory{dict(enumerate(self.bins))}\"\n",
    "    \n",
    "    @property\n",
    "    def done(self):\n",
    "        return self._done\n",
    "    \n",
    "    def halt(self):\n",
    "        self._done = True\n",
    "    \n",
    "    def do(self, op: int, param: int):\n",
    "        if op == 0:\n",
    "            self.halt()\n",
    "        elif op == 1:\n",
    "            shirt: int = self.bins[param].pop()\n",
    "            self.operands.append(shirt)\n",
    "        elif op == 2:\n",
    "            shirt: int = self.operands.pop()\n",
    "            self.bins[param].append(shirt)\n",
    "        elif op == 3:\n",
    "            shirt = self.operands.pop()\n",
    "            shirt = (shirt + param) % self.N\n",
    "            self.operands.append(shirt)\n",
    "        elif op == 4:\n",
    "            shirt = self.operands.pop()\n",
    "            shirt = (shirt * param) % self.N\n",
    "            self.operands.append(shirt)\n",
    "        elif op == 8:\n",
    "            self.bins[param] = reversed(self.bins[param])\n",
    "        elif op == 9:\n",
    "            tos = self.peek(self.operands)\n",
    "            self.bins[tos], self.bins[param] = self.bins[param], self.bins[tos]\n",
    "    \n",
    "    def peek(self, l):\n",
    "        \"\"\"Peeks top of stack\"\"\"\n",
    "        tos = self.operands.pop()\n",
    "        self.operands.append(tos)\n",
    "        return tos\n",
    "        \n",
    "    @property\n",
    "    def material(self):\n",
    "        return self.bins[Bins.Material]\n",
    "        \n",
    "    @material.setter\n",
    "    def material(self, v):\n",
    "        self.bins[Bins.Material] = v\n",
    "    \n",
    "    @property\n",
    "    def result(self):\n",
    "        return self.bins[Bins.Result]\n",
    "    \n",
    "    @property\n",
    "    def instructions(self):\n",
    "        return self.bins[Bins.Instructions]\n",
    "    \n",
    "    @instructions.setter\n",
    "    def instructions(self, v):\n",
    "        self.bins[Bins.Instructions] = v\n",
    "    \n",
    "    @property\n",
    "    def operands(self):\n",
    "        return self.bins[Bins.Operands]\n",
    "    \n",
    "    @property\n",
    "    def recycling(self):\n",
    "        return self.bins[Bins.Recycling]"
   ]
  },
  {
   "cell_type": "code",
   "execution_count": 119,
   "id": "026073c3",
   "metadata": {},
   "outputs": [
    {
     "name": "stdout",
     "output_type": "stream",
     "text": [
      "0 0 Factory{0: [0...], 1: [], 2: [], 3: [], 4: [], 5: [], 6: [], 7: [], 8: [], 9: []}\n",
      "0 0 Factory{0: [0...], 1: [], 2: [], 3: [], 4: [], 5: [], 6: [], 7: [], 8: [], 9: []}\n"
     ]
    }
   ],
   "source": [
    "assert Factory([0, 0]).run() == []\n",
    "assert Factory('00').run() == []\n"
   ]
  },
  {
   "cell_type": "code",
   "execution_count": 95,
   "id": "83874ece",
   "metadata": {},
   "outputs": [
    {
     "name": "stdout",
     "output_type": "stream",
     "text": [
      "Factory{0: [0...], 1: [3, 3, 3, 9, 0, 1, 1], 2: [], 3: [], 4: [], 5: [], 6: [], 7: [], 8: [], 9: []}\n",
      "op=1, param=1, Factory{0: [0...], 1: [3, 3, 3, 9, 0], 2: [], 3: [], 4: [], 5: [], 6: [], 7: [], 8: [], 9: []}\n",
      "op=9, param=3, Factory{0: [0...], 1: [3, 3], 2: [1, 1], 3: [0], 4: [], 5: [], 6: [], 7: [], 8: [], 9: []}\n",
      "op=3, param=3, Factory{0: [0], 1: [], 2: [1, 1, 9, 3], 3: [0...], 4: [], 5: [], 6: [], 7: [], 8: [], 9: []}\n",
      "Factory{0: [0], 1: [], 2: [1, 1, 9, 3, 3, 3], 3: [3], 4: [], 5: [], 6: [], 7: [], 8: [], 9: []}\n"
     ]
    },
    {
     "ename": "IndexError",
     "evalue": "pop from empty list",
     "output_type": "error",
     "traceback": [
      "\u001b[1;31m---------------------------------------------------------------------------\u001b[0m",
      "\u001b[1;31mIndexError\u001b[0m                                Traceback (most recent call last)",
      "Input \u001b[1;32mIn [95]\u001b[0m, in \u001b[0;36m<cell line: 20>\u001b[1;34m()\u001b[0m\n\u001b[0;32m     12\u001b[0m sol \u001b[38;5;241m=\u001b[39m [\n\u001b[0;32m     13\u001b[0m     Color\u001b[38;5;241m.\u001b[39mBlue, Color\u001b[38;5;241m.\u001b[39mBlue, Color\u001b[38;5;241m.\u001b[39mBlue,\n\u001b[0;32m     14\u001b[0m     Op\u001b[38;5;241m.\u001b[39mSwap,\n\u001b[1;32m   (...)\u001b[0m\n\u001b[0;32m     17\u001b[0m     Op\u001b[38;5;241m.\u001b[39mMoveByParamToOperand,\n\u001b[0;32m     18\u001b[0m ]\n\u001b[0;32m     19\u001b[0m f \u001b[38;5;241m=\u001b[39m Factory(sol)\n\u001b[1;32m---> 20\u001b[0m result \u001b[38;5;241m=\u001b[39m \u001b[43mf\u001b[49m\u001b[38;5;241;43m.\u001b[39;49m\u001b[43mrun\u001b[49m\u001b[43m(\u001b[49m\u001b[43m)\u001b[49m\n\u001b[0;32m     21\u001b[0m \u001b[38;5;28mprint\u001b[39m(f, result)\n\u001b[0;32m     22\u001b[0m \u001b[38;5;28;01massert\u001b[39;00m result \u001b[38;5;241m==\u001b[39m [Color\u001b[38;5;241m.\u001b[39mBlue] \u001b[38;5;241m*\u001b[39m \u001b[38;5;241m3\u001b[39m\n",
      "Input \u001b[1;32mIn [93]\u001b[0m, in \u001b[0;36mFactory.run\u001b[1;34m(self)\u001b[0m\n\u001b[0;32m     50\u001b[0m \u001b[38;5;28;01mwhile\u001b[39;00m \u001b[38;5;129;01mnot\u001b[39;00m \u001b[38;5;28mself\u001b[39m\u001b[38;5;241m.\u001b[39mdone:\n\u001b[0;32m     51\u001b[0m     \u001b[38;5;28;01mtry\u001b[39;00m:\n\u001b[1;32m---> 52\u001b[0m         op \u001b[38;5;241m=\u001b[39m \u001b[38;5;28;43mself\u001b[39;49m\u001b[38;5;241;43m.\u001b[39;49m\u001b[43minstructions\u001b[49m\u001b[38;5;241;43m.\u001b[39;49m\u001b[43mpop\u001b[49m\u001b[43m(\u001b[49m\u001b[43m)\u001b[49m\n\u001b[0;32m     53\u001b[0m         param \u001b[38;5;241m=\u001b[39m \u001b[38;5;28mself\u001b[39m\u001b[38;5;241m.\u001b[39minstructions\u001b[38;5;241m.\u001b[39mpop()\n\u001b[0;32m     54\u001b[0m         \u001b[38;5;28mself\u001b[39m\u001b[38;5;241m.\u001b[39mdo(op, param)\n",
      "\u001b[1;31mIndexError\u001b[0m: pop from empty list"
     ]
    }
   ],
   "source": [
    "class Op:\n",
    "    Halt = 0\n",
    "    MoveByParamToOperand = 1 # Bins[Operands] <- Bins[Param]\n",
    "    MoveByOperandToParam = 2 # Bins[Param] <- Bins[Operands]\n",
    "    ColorAdd = 3\n",
    "    ColorMul = 4\n",
    "    Nop5 = 5\n",
    "    Nop6 = 6\n",
    "    Nop7 = 7\n",
    "    Reverse = 8\n",
    "    Swap = 9\n",
    "sol = [\n",
    "    Color.Blue, Color.Blue, Color.Blue,\n",
    "    Op.Swap,\n",
    "    Bins.Material,\n",
    "    1,\n",
    "    Op.MoveByParamToOperand,\n",
    "]\n",
    "f = Factory(sol)\n",
    "result = f.run()\n",
    "print(f, result)\n",
    "assert result == [Color.Blue] * 3 "
   ]
  },
  {
   "cell_type": "code",
   "execution_count": 121,
   "id": "8385c66a",
   "metadata": {},
   "outputs": [
    {
     "name": "stdout",
     "output_type": "stream",
     "text": [
      "1 0 Factory{0: [0...], 1: [0, 0, 9, 9, 3, 3, 0, 1, 3, 3, 0, 1, 3, 3], 2: [], 3: [], 4: [], 5: [], 6: [], 7: [], 8: [], 9: []}\n",
      "3 3 Factory{0: [0...], 1: [0, 0, 9, 9, 3, 3, 0, 1, 3, 3, 0, 1], 2: [1, 0], 3: [0], 4: [], 5: [], 6: [], 7: [], 8: [], 9: []}\n",
      "1 0 Factory{0: [0...], 1: [0, 0, 9, 9, 3, 3, 0, 1, 3, 3], 2: [1, 0, 3, 3], 3: [3], 4: [], 5: [], 6: [], 7: [], 8: [], 9: []}\n",
      "3 3 Factory{0: [0...], 1: [0, 0, 9, 9, 3, 3, 0, 1], 2: [1, 0, 3, 3, 1, 0], 3: [3, 0], 4: [], 5: [], 6: [], 7: [], 8: [], 9: []}\n",
      "1 0 Factory{0: [0...], 1: [0, 0, 9, 9, 3, 3], 2: [1, 0, 3, 3, 1, 0, 3, 3], 3: [3, 3], 4: [], 5: [], 6: [], 7: [], 8: [], 9: []}\n",
      "3 3 Factory{0: [0...], 1: [0, 0, 9, 9], 2: [1, 0, 3, 3, 1, 0, 3, 3, 1, 0], 3: [3, 3, 0], 4: [], 5: [], 6: [], 7: [], 8: [], 9: []}\n",
      "9 9 Factory{0: [0...], 1: [0, 0], 2: [1, 0, 3, 3, 1, 0, 3, 3, 1, 0, 3, 3], 3: [3, 3, 3], 4: [], 5: [], 6: [], 7: [], 8: [], 9: []}\n",
      "0 0 Factory{0: [0...], 1: [], 2: [1, 0, 3, 3, 1, 0, 3, 3, 1, 0, 3, 3, 9, 9], 3: [], 4: [], 5: [], 6: [], 7: [], 8: [], 9: [3, 3, 3]}\n",
      "Factory{0: [0...], 1: [], 2: [1, 0, 3, 3, 1, 0, 3, 3, 1, 0, 3, 3, 9, 9, 0, 0], 3: [], 4: [], 5: [], 6: [], 7: [], 8: [], 9: [3, 3, 3]} [3, 3, 3]\n"
     ]
    }
   ],
   "source": [
    "sol = [\n",
    "    Op.MoveByParamToOperand,\n",
    "    0,\n",
    "    Op.ColorAdd,\n",
    "    Color.Blue,\n",
    "    Op.MoveByParamToOperand,\n",
    "    0,\n",
    "    Op.ColorAdd,\n",
    "    Color.Blue,\n",
    "    Op.MoveByParamToOperand,\n",
    "    0,\n",
    "    Op.ColorAdd,\n",
    "    Color.Blue,\n",
    "    Op.Swap,\n",
    "    9,\n",
    "    Op.Halt,\n",
    "    Op.Halt,\n",
    "]\n",
    "f = Factory(sol)\n",
    "result = f.run()\n",
    "print(f, result)\n",
    "assert result == [Color.Blue] * 3 "
   ]
  },
  {
   "cell_type": "code",
   "execution_count": 111,
   "id": "b964df8f",
   "metadata": {},
   "outputs": [],
   "source": []
  },
  {
   "cell_type": "code",
   "execution_count": 125,
   "id": "12da3d91",
   "metadata": {},
   "outputs": [
    {
     "name": "stdout",
     "output_type": "stream",
     "text": [
      "1 0 Factory{0: [0...], 1: [0, 0, 9, 2, 3, 3], 2: [], 3: [], 4: [], 5: [], 6: [], 7: [], 8: [], 9: []}\n",
      "3 3 Factory{0: [0...], 1: [0, 0, 9, 2], 2: [1, 0], 3: [0], 4: [], 5: [], 6: [], 7: [], 8: [], 9: []}\n",
      "2 9 Factory{0: [0...], 1: [0, 0], 2: [1, 0, 3, 3], 3: [3], 4: [], 5: [], 6: [], 7: [], 8: [], 9: []}\n",
      "0 0 Factory{0: [0...], 1: [], 2: [1, 0, 3, 3, 2, 9], 3: [], 4: [], 5: [], 6: [], 7: [], 8: [], 9: [3]}\n",
      "Factory{0: [0...], 1: [], 2: [1, 0, 3, 3, 2, 9, 0, 0], 3: [], 4: [], 5: [], 6: [], 7: [], 8: [], 9: [3]} [3]\n"
     ]
    },
    {
     "ename": "AssertionError",
     "evalue": "",
     "output_type": "error",
     "traceback": [
      "\u001b[1;31m---------------------------------------------------------------------------\u001b[0m",
      "\u001b[1;31mAssertionError\u001b[0m                            Traceback (most recent call last)",
      "Input \u001b[1;32mIn [125]\u001b[0m, in \u001b[0;36m<cell line: 5>\u001b[1;34m()\u001b[0m\n\u001b[0;32m      2\u001b[0m result \u001b[38;5;241m=\u001b[39m f\u001b[38;5;241m.\u001b[39mrun()\n\u001b[0;32m      3\u001b[0m \u001b[38;5;28mprint\u001b[39m(f, result)\n\u001b[1;32m----> 5\u001b[0m \u001b[38;5;28;01massert\u001b[39;00m result \u001b[38;5;241m==\u001b[39m [Color\u001b[38;5;241m.\u001b[39mBlue] \u001b[38;5;241m*\u001b[39m \u001b[38;5;241m3\u001b[39m\n",
      "\u001b[1;31mAssertionError\u001b[0m: "
     ]
    }
   ],
   "source": [
    "f = Factory('10332900')\n",
    "result = f.run()\n",
    "print(f, result)\n",
    "\n",
    "assert result == [Color.Blue] * 3 "
   ]
  }
 ],
 "metadata": {
  "kernelspec": {
   "display_name": "Python 3 (ipykernel)",
   "language": "python",
   "name": "python3"
  },
  "language_info": {
   "codemirror_mode": {
    "name": "ipython",
    "version": 3
   },
   "file_extension": ".py",
   "mimetype": "text/x-python",
   "name": "python",
   "nbconvert_exporter": "python",
   "pygments_lexer": "ipython3",
   "version": "3.9.13"
  }
 },
 "nbformat": 4,
 "nbformat_minor": 5
}
